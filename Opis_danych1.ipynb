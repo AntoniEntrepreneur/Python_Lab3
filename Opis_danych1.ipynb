{
 "cells": [
  {
   "cell_type": "markdown",
   "metadata": {
    "vscode": {
     "languageId": "plaintext"
    }
   },
   "source": [
    "# **Goodreads-books**\n"
   ]
  },
  {
   "cell_type": "markdown",
   "metadata": {},
   "source": [
    "**Zbiór danych zawiera informację o dobrych książkach według ocen krytyków i czytelników**"
   ]
  },
  {
   "cell_type": "markdown",
   "metadata": {},
   "source": [
    "Dataset zawiera 12 kolumn zawierajace informacje takie jak m.in\n",
    "\n",
    "Autor\n",
    "\n",
    "tytuł\n",
    "\n",
    "wydawnictwo\n",
    "\n",
    "średnia ocen\n",
    "\n",
    "ilość ocen\n",
    "\n",
    "\n"
   ]
  },
  {
   "cell_type": "markdown",
   "metadata": {},
   "source": [
    "Zbiór stworzony przez użytkownika Soumik na platformie Kaggle.com\n",
    "\n",
    "pełna lista kolumn oraz wartości znajduje się pod linkiem:"
   ]
  },
  {
   "cell_type": "markdown",
   "metadata": {},
   "source": [
    "https://www.kaggle.com/datasets/jealousleopard/goodreadsbooks"
   ]
  },
  {
   "cell_type": "markdown",
   "metadata": {},
   "source": [
    "**data publiakcji:** 25.05.2019\n",
    "\n",
    "**data ostaniej modyfikacji:** 08.12.2020"
   ]
  },
  {
   "cell_type": "markdown",
   "metadata": {},
   "source": [
    "# Used Cars Dataset"
   ]
  },
  {
   "cell_type": "markdown",
   "metadata": {},
   "source": [
    "**Dataset zawiera dane o samochodach używanych wystawionych na sprzedaż w USA**"
   ]
  },
  {
   "cell_type": "markdown",
   "metadata": {},
   "source": [
    "Zbiór zawiera 26 kolumn z takimi informacjami jak m.in.:"
   ]
  },
  {
   "cell_type": "markdown",
   "metadata": {},
   "source": [
    "Marka auta\n",
    "\n",
    "model auta\n",
    "\n",
    "pojemność silnika\n",
    "\n",
    "rok produkcji\n",
    "\n",
    "ilość cylindrów"
   ]
  },
  {
   "cell_type": "markdown",
   "metadata": {
    "vscode": {
     "languageId": "plaintext"
    }
   },
   "source": [
    "Pełna baza adnych jest dostępna pod linkiem:"
   ]
  },
  {
   "cell_type": "markdown",
   "metadata": {},
   "source": [
    "https://www.kaggle.com/datasets/austinreese/craigslist-carstrucks-data\n"
   ]
  },
  {
   "cell_type": "markdown",
   "metadata": {},
   "source": [
    "**Ostania modyfikacja bazy danych** 4 lata temu\n"
   ]
  },
  {
   "cell_type": "markdown",
   "metadata": {},
   "source": []
  }
 ],
 "metadata": {
  "language_info": {
   "name": "python"
  }
 },
 "nbformat": 4,
 "nbformat_minor": 2
}
